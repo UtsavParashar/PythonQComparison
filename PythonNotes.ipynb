{
 "cells": [
  {
   "cell_type": "markdown",
   "metadata": {},
   "source": [
    "How many seconds are there in 10mins 20secs"
   ]
  },
  {
   "cell_type": "code",
   "execution_count": 1,
   "metadata": {},
   "outputs": [
    {
     "data": {
      "text/plain": [
       "620"
      ]
     },
     "execution_count": 1,
     "metadata": {},
     "output_type": "execute_result"
    }
   ],
   "source": [
    "10*60+20"
   ]
  },
  {
   "cell_type": "markdown",
   "metadata": {},
   "source": [
    "If you ran 10 kms in 10mins 20sec, then how much you ran in miles/hr, 1mile = 1.62 km"
   ]
  },
  {
   "cell_type": "code",
   "execution_count": 8,
   "metadata": {},
   "outputs": [
    {
     "data": {
      "text/plain": [
       "0.5973715651135005"
      ]
     },
     "execution_count": 8,
     "metadata": {},
     "output_type": "execute_result"
    }
   ],
   "source": [
    "10/1.62/(10+20/60)"
   ]
  },
  {
   "cell_type": "markdown",
   "metadata": {},
   "source": [
    "Volume of sphere formula 4/3*pi(r)3, if radius is 10"
   ]
  },
  {
   "cell_type": "code",
   "execution_count": 1,
   "metadata": {},
   "outputs": [
    {
     "data": {
      "text/plain": [
       "4188.786666666666"
      ]
     },
     "execution_count": 1,
     "metadata": {},
     "output_type": "execute_result"
    }
   ],
   "source": [
    "4/3*3.14159*10**3"
   ]
  },
  {
   "cell_type": "markdown",
   "metadata": {},
   "source": [
    "Copy Px - 29.9, total copies - 80, discount - 30%, first copy shipping cost - 5, rest copies shipping cost - 0.8"
   ]
  },
  {
   "cell_type": "code",
   "execution_count": 6,
   "metadata": {},
   "outputs": [
    {
     "data": {
      "text/plain": [
       "1742.6"
      ]
     },
     "execution_count": 6,
     "metadata": {},
     "output_type": "execute_result"
    }
   ],
   "source": [
    "29.9*80*.7+5+79*.8"
   ]
  },
  {
   "cell_type": "markdown",
   "metadata": {},
   "source": [
    "start run at 6:52, \n",
    "first and last lap = 8 min 15 secs, \n",
    "between 3 laps = 7 min 12 secs, \n",
    "Reached home at what time?"
   ]
  },
  {
   "cell_type": "code",
   "execution_count": 25,
   "metadata": {},
   "outputs": [
    {
     "name": "stdout",
     "output_type": "stream",
     "text": [
      "7:30:6\n"
     ]
    }
   ],
   "source": [
    "runTime=2*(8*60+15)+3*(7*60+12)\n",
    "runMin=runTime//60\n",
    "runSec=runTime%60\n",
    "hr=6\n",
    "mi=52+runMin\n",
    "if 60<mi:\n",
    "    hr += 1\n",
    "    mi = mi - 60\n",
    "print(str(hr)+\":\"+str(mi)+\":\"+str(runSec))"
   ]
  },
  {
   "cell_type": "code",
   "execution_count": null,
   "metadata": {},
   "outputs": [],
   "source": []
  }
 ],
 "metadata": {
  "kernelspec": {
   "display_name": "Python 3",
   "language": "python",
   "name": "python3"
  },
  "language_info": {
   "codemirror_mode": {
    "name": "ipython",
    "version": 3
   },
   "file_extension": ".py",
   "mimetype": "text/x-python",
   "name": "python",
   "nbconvert_exporter": "python",
   "pygments_lexer": "ipython3",
   "version": "3.7.1"
  }
 },
 "nbformat": 4,
 "nbformat_minor": 2
}
